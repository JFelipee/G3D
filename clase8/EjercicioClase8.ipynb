{
 "cells": [
  {
   "cell_type": "markdown",
   "metadata": {},
   "source": [
    "### Ejercicio clase 8"
   ]
  },
  {
   "cell_type": "markdown",
   "metadata": {},
   "source": [
    "**Ejercicio1:Usa glMultMatrixf() y glMultTransposeMatrixf() para crear unas funciones que reproduzcan glTranslatef(), glScalef() y gluLookAt(). \n",
    "Para este ultimo, usa numpy.linal.norm() y numpy.cross(). Recuerda también que la matriz asociada a gluLookAt() es la composición de una traslación con una rotación.**"
   ]
  },
  {
   "cell_type": "markdown",
   "metadata": {},
   "source": [
    "    Respuesta(rotacion):     def rotate(self,ang,rx,ry,rz):\n",
    "                             glPushMatrix()\n",
    "                             glLoadIdentity()\n",
    "                             glRotatef(ang,rx,ry,rz)\n",
    "                             glMultMatrixf(self.matrix)\n",
    "                             self.matrix=get_model_matrix()\n",
    "                             glPopMatrix()\n",
    "                             \n",
    "    Respuesta(traslación):\n",
    "                                 def translate(self,dx,dy,dz):\n",
    "                                 glPushMatrix()\n",
    "                                 glLoadIdentity()\n",
    "                                 glTranslatef(dx,dy,dz)\n",
    "                                 glMultMatrixf(self.matrix)\n",
    "                                 self.matrix=get_model_matrix()\n",
    "                                 glPopMatrix()\n",
    "\n",
    "    \n",
    "         Respuesta(gluLookAt()):gluLookAt(eyex,eyey,eyez,centx,centy,centz,upx,upy,upz)\n",
    "                     glMultMatrixf(self.cam_trans.matrix)\n",
    "                     glMultMatrixf(self.cam_rot.matrix)\n",
    "                     \n",
    "                     \n",
    "**Ejercicio2 ¿Qué ocurre cuando intentamos escribir la rotación R e 2 (θ) como producto de estas cinco rotaciones?**\n",
    "Respuesta; será 1 ya que se mulitplica por su inversa.\n",
    "\n",
    "**Ejercicio 3 Implementa una versión de glRotatef() usando las rotaciones de Euler**\n",
    "Respuesta:   \n",
    "def rotate(self,ang,rx,ry,rz):\n",
    "                                 glPushMatrix()\n",
    "                                 glLoadIdentity()\n",
    "                                 glRotatef(ang,rx,ry,rz)\n",
    "                                 glMultMatrixf(self.matrix)\n",
    "                                 self.matrix=get_model_matrix()\n",
    "                                 glPopMatrix()\n",
    "**Ejercicio 4 ** No he podido realizarlo."
   ]
  }
 ],
 "metadata": {
  "kernelspec": {
   "display_name": "Python 3",
   "language": "python",
   "name": "python3"
  },
  "language_info": {
   "codemirror_mode": {
    "name": "ipython",
    "version": 3
   },
   "file_extension": ".py",
   "mimetype": "text/x-python",
   "name": "python",
   "nbconvert_exporter": "python",
   "pygments_lexer": "ipython3",
   "version": "3.8.5"
  }
 },
 "nbformat": 4,
 "nbformat_minor": 4
}
